{
 "cells": [
  {
   "cell_type": "code",
   "execution_count": 4,
   "id": "76e2888f-2d8d-4596-b5a9-77aaf9a73732",
   "metadata": {},
   "outputs": [
    {
     "name": "stdout",
     "output_type": "stream",
     "text": [
      "  CustomerID  TotalValue  Quantity  Price_transaction  TotalValue_normalized  \\\n",
      "0      C0001     3354.52        12         278.334000              -0.061701   \n",
      "1      C0002     1862.74        10         208.920000              -0.877744   \n",
      "2      C0003     2725.38        14         195.707500              -0.405857   \n",
      "3      C0004     5354.88        23         240.636250               1.032547   \n",
      "4      C0005     2034.24         7         291.603333              -0.783929   \n",
      "\n",
      "   Quantity_normalized  Price_normalized  \n",
      "0            -0.122033          0.094670  \n",
      "1            -0.448000         -0.904016  \n",
      "2             0.203934         -1.094109  \n",
      "3             1.670787         -0.447702  \n",
      "4            -0.936951          0.285581  \n"
     ]
    }
   ],
   "source": [
    "import pandas as pd\n",
    "from sklearn.preprocessing import StandardScaler\n",
    "\n",
    "# Step 1: Load the datasets\n",
    "customers = pd.read_csv('Customers.csv')\n",
    "products = pd.read_csv('Products.csv')\n",
    "transactions = pd.read_csv('Transactions.csv')\n",
    "\n",
    "# Step 2: Merge the datasets\n",
    "# Merge transactions with products\n",
    "transactions_products = transactions.merge(\n",
    "    products, on='ProductID', suffixes=('_transaction', '_product')\n",
    ")\n",
    "\n",
    "# Merge the result with customers\n",
    "merged_data = transactions_products.merge(\n",
    "    customers, on='CustomerID', suffixes=('', '_customer')\n",
    ")\n",
    "\n",
    "# Step 3: Create the customer profile\n",
    "customer_profile = merged_data.groupby('CustomerID').agg({\n",
    "    'TotalValue': 'sum',          # Total value of transactions\n",
    "    'Quantity': 'sum',            # Total quantity purchased\n",
    "    'Price_transaction': 'mean',  # Average price per transaction\n",
    "}).reset_index()\n",
    "\n",
    "# Step 4: Normalize the data\n",
    "scaler = StandardScaler()\n",
    "normalized_data = scaler.fit_transform(customer_profile[['TotalValue', 'Quantity', 'Price_transaction']])\n",
    "\n",
    "# Step 5: Add normalized values back to the customer profile\n",
    "customer_profile[['TotalValue_normalized', 'Quantity_normalized', 'Price_normalized']] = normalized_data\n",
    "\n",
    "# Step 6: Display the final customer profile\n",
    "print(customer_profile.head())\n"
   ]
  },
  {
   "cell_type": "code",
   "execution_count": null,
   "id": "45d93740-531d-4aa3-bec7-2291c65f7f08",
   "metadata": {},
   "outputs": [],
   "source": []
  }
 ],
 "metadata": {
  "kernelspec": {
   "display_name": "Python 3 (ipykernel)",
   "language": "python",
   "name": "python3"
  },
  "language_info": {
   "codemirror_mode": {
    "name": "ipython",
    "version": 3
   },
   "file_extension": ".py",
   "mimetype": "text/x-python",
   "name": "python",
   "nbconvert_exporter": "python",
   "pygments_lexer": "ipython3",
   "version": "3.12.3"
  }
 },
 "nbformat": 4,
 "nbformat_minor": 5
}
